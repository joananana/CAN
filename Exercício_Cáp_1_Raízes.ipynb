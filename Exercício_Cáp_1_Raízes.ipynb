{
  "nbformat": 4,
  "nbformat_minor": 0,
  "metadata": {
    "colab": {
      "provenance": [],
      "authorship_tag": "ABX9TyPFDZF/ShIdkBQDuoKjF+zn",
      "include_colab_link": true
    },
    "kernelspec": {
      "name": "python3",
      "display_name": "Python 3"
    },
    "language_info": {
      "name": "python"
    }
  },
  "cells": [
    {
      "cell_type": "markdown",
      "metadata": {
        "id": "view-in-github",
        "colab_type": "text"
      },
      "source": [
        "<a href=\"https://colab.research.google.com/github/joananana/CAN/blob/main/Exerc%C3%ADcio_C%C3%A1p_1_Ra%C3%ADzes.ipynb\" target=\"_parent\"><img src=\"https://colab.research.google.com/assets/colab-badge.svg\" alt=\"Open In Colab\"/></a>"
      ]
    },
    {
      "cell_type": "markdown",
      "source": [
        "Comprimento do cabo (C) entre duas torres de transmissão.\n",
        "A distância entre as torres é de d = 500m.\n",
        "Flecha max é de fmax=50m\n",
        "\n",
        "𝐟 = 𝐂.[cosh(d/2C)-1]\n",
        "\n",
        "Método da bissecção\n"
      ],
      "metadata": {
        "id": "i92glEZqy91b"
      }
    },
    {
      "cell_type": "code",
      "source": [
        "import numpy as np\n",
        "\n",
        "def f(C,    #Comprimento do cabo\n",
        "      d=500, #Distância entre as torres\n",
        "      fmax=50\n",
        "      ):\n",
        "\n",
        "  return C*(np.cosh(d/(2*C))-1) - fmax\n",
        "\n",
        "def bisseccao(x1,         # x1 início do intervalo\n",
        "              x2,         # x2 fim do intervalo\n",
        "              TOL,        # erro tolerado\n",
        "              iter=16):   # número máximo de iterações\n",
        "\n",
        "    hp = (x1 + x2)/2  # Ponto médio entre os valores x1 e x2\n",
        "    if f(x1) * f(x2) > 0:\n",
        "        print(\"Nenhuma raíz encontrada.\")  #nenhuma raíz.\n",
        "    else:\n",
        "        c = 0  # variável contador\n",
        "        ERRO = abs(f(x2) - f(x1))       # diferença entre os valores de y\n",
        "        while ERRO > TOL or c < iter:   # loop iterativo com critérios de parada\n",
        "            hp = (x1 + x2) / 2.0\n",
        "            if f(hp) == 0:\n",
        "                return [hp, c]\n",
        "            elif f(x1) * f(hp) < 0:\n",
        "                x2 = hp\n",
        "                c += 1  # contagem\n",
        "            else:\n",
        "                x1 = hp\n",
        "            ERRO = abs(f(x2) - f(x1))\n",
        "        return {\"hp\": hp, \"iteração\": c}  # raíz da função; número de iterações\n",
        "\n",
        "resp = bisseccao(x1=500, x2=1000, TOL=0.0001) #intervalo VÁLIDO de valores x1 e x2\n",
        "print(f'raíz aprox {resp[\"hp\"]:.4f}')\n",
        "print(f'O número de iterações foi {resp[\"iteração\"]}')\n"
      ],
      "metadata": {
        "colab": {
          "base_uri": "https://localhost:8080/"
        },
        "id": "-621_eBGy6nC",
        "outputId": "4d13ec63-9cca-415c-c8be-7d41f26e4fbe"
      },
      "execution_count": 6,
      "outputs": [
        {
          "output_type": "stream",
          "name": "stdout",
          "text": [
            "raíz aprox 633.1622\n",
            "O número de iterações foi 16\n"
          ]
        }
      ]
    },
    {
      "cell_type": "markdown",
      "source": [
        "Retificador de meia onda de diodo.\n",
        "f = 1kHz\n",
        "L = 100mH\n",
        "R = 1k\n",
        "\n",
        "Id = sen(β-Φ) + sen(Φ)e^(-β/tan(Φ)\n",
        "\n",
        "sendo tan(Φ) = 2πfL/R\n",
        "\n",
        "Φ = cot(2πfL/R)"
      ],
      "metadata": {
        "id": "USJdKNZC2HTx"
      }
    },
    {
      "cell_type": "code",
      "source": [
        "import numpy as np\n",
        "\n",
        "\n",
        "l = 0.1\n",
        "r = 1000\n",
        "fq = 1000\n",
        "tangO = (2*np.pi*fq*l)/r\n",
        "\n",
        "phi = np.arctan(tangO)\n",
        "\n",
        "def Id(B,\n",
        "        l = 0.1,\n",
        "        r = 1000,\n",
        "        fq = 1000,\n",
        "        tangO = (2*np.pi*fq*l)/r,\n",
        "        phi = np.arctan(tangO)\n",
        "        ):\n",
        "\n",
        "  return np.sin(B-phi) + np.sin(phi)*np.exp(-B/tangO)\n",
        "\n",
        "def bisseccao(x1,         # x1 início do intervalo\n",
        "              x2,         # x2 fim do intervalo\n",
        "              TOL,        # erro tolerado\n",
        "              iter=16):   # número máximo de iterações\n",
        "\n",
        "    hp = (x1 + x2)/2  # Ponto médio entre os valores x1 e x2\n",
        "    if Id(x1) * Id(x2) > 0:\n",
        "        print(\"Nenhuma raíz encontrada.\")  #nenhuma raíz.\n",
        "    else:\n",
        "        c = 0  # variável contador\n",
        "        ERRO = abs(Id(x2) - Id(x1))       # diferença entre os valores de y\n",
        "        while ERRO > TOL or c < iter:   # loop iterativo com critérios de parada\n",
        "            hp = (x1 + x2) / 2.0\n",
        "            if Id(hp) == 0:\n",
        "                return [hp, c]\n",
        "            elif Id(x1) * Id(hp) < 0:\n",
        "                x2 = hp\n",
        "                c += 1  # contagem\n",
        "            else:\n",
        "                x1 = hp\n",
        "            ERRO = abs(Id(x2) - Id(x1))\n",
        "        return {\"hp\": hp, \"iteração\": c}  # raíz da função; número de iterações\n",
        "\n",
        "resp = bisseccao(x1=0, x2=np.pi/2, TOL=0.0001) #intervalo VÁLIDO de valores x1 e x2\n",
        "print(f'raíz aprox {resp[\"hp\"]:.4f}')\n",
        "print(f'O número de iterações foi {resp[\"iteração\"]}')\n"
      ],
      "metadata": {
        "id": "TPnMJp3o7Jt-"
      },
      "execution_count": null,
      "outputs": []
    }
  ]
}